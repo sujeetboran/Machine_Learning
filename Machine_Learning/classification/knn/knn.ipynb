{
  "nbformat": 4,
  "nbformat_minor": 0,
  "metadata": {
    "colab": {
      "name": "Machine_Learning/Regression/RandomForest_regression/RandomForest_regression.ipynb",
      "version": "0.3.2",
      "provenance": [],
      "collapsed_sections": [],
      "include_colab_link": true
    },
    "kernelspec": {
      "name": "python3",
      "display_name": "Python 3"
    },
    "accelerator": "GPU"
  },
  "cells": [
    {
      "cell_type": "markdown",
      "metadata": {
        "id": "view-in-github",
        "colab_type": "text"
      },
      "source": [
        "<a href=\"https://colab.research.google.com/github/sujeetboran/Machine_Learning/blob/master/Machine_Learning/classification/knn/knn.ipynb\" target=\"_parent\"><img src=\"https://colab.research.google.com/assets/colab-badge.svg\" alt=\"Open In Colab\"/></a>"
      ]
    },
    {
      "cell_type": "code",
      "metadata": {
        "id": "P_OXPcFOwLAx",
        "colab_type": "code",
        "colab": {
          "base_uri": "https://localhost:8080/",
          "height": 87
        },
        "outputId": "0edae93c-7f2f-47b3-9244-925e58221a08"
      },
      "source": [
        "#importing library\n",
        "import pandas as pd\n",
        "import numpy as np\n",
        "import matplotlib.pyplot as ppt\n",
        "\n",
        "#taking data\n",
        "dataset=pd.read_csv(\"Social_Network_Ads.csv\")\n",
        "x=dataset.iloc[:,2:4].values\n",
        "y=dataset.iloc[:,4].values\n",
        "\n",
        "#feature scaling\n",
        "from sklearn.preprocessing import StandardScaler\n",
        "sc=StandardScaler()\n",
        "x=sc.fit_transform(x)\n",
        "\n",
        "#splitting data\n",
        "from sklearn.model_selection import train_test_split as tts\n",
        "x_train,x_test,y_train,y_test=tts(x,y,test_size=0.2,random_state=0)\n",
        "\n",
        "#fitting model\n",
        "from sklearn.neighbors import KNeighborsClassifier\n",
        "classifier = KNeighborsClassifier(n_neighbors = 5)\n",
        "classifier.fit(x_train,y_train)\n",
        "\n",
        "#comfusion matrix\n",
        "from sklearn.metrics import confusion_matrix\n",
        "cm=confusion_matrix(y_test,classifier.predict(x_test))\n",
        "print(\"comfusion matric to check correcteness of model\\n\")\n",
        "print(cm)"
      ],
      "execution_count": 18,
      "outputs": [
        {
          "output_type": "stream",
          "text": [
            "comfusion matric to check correcteness of model\n",
            "\n",
            "[[55  3]\n",
            " [ 1 21]]\n"
          ],
          "name": "stdout"
        }
      ]
    }
  ]
}