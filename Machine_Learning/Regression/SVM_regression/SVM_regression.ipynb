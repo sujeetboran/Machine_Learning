{
  "nbformat": 4,
  "nbformat_minor": 0,
  "metadata": {
    "colab": {
      "name": "Machine_Learning/Regression/SVM_regression/SVM_regression.ipynb",
      "version": "0.3.2",
      "provenance": [],
      "collapsed_sections": [],
      "include_colab_link": true
    },
    "kernelspec": {
      "name": "python3",
      "display_name": "Python 3"
    },
    "accelerator": "GPU"
  },
  "cells": [
    {
      "cell_type": "markdown",
      "metadata": {
        "id": "view-in-github",
        "colab_type": "text"
      },
      "source": [
        "<a href=\"https://colab.research.google.com/github/sujeetboran/Machine_Learning/blob/master/Machine_Learning/Regression/SVM_regression/SVM_regression.ipynb\" target=\"_parent\"><img src=\"https://colab.research.google.com/assets/colab-badge.svg\" alt=\"Open In Colab\"/></a>"
      ]
    },
    {
      "cell_type": "code",
      "metadata": {
        "id": "-aagMe3EOZ1t",
        "colab_type": "code",
        "colab": {
          "base_uri": "https://localhost:8080/",
          "height": 667
        },
        "outputId": "3b1d1fbd-1b94-4c0e-aee9-4e5fb63f7626"
      },
      "source": [
        "#importing libraries\n",
        "\n",
        "import numpy as np\n",
        "import matplotlib.pyplot as ppt\n",
        "import pandas as pd\n",
        "\n",
        "#taking data\n",
        "dataset = pd.read_csv(\"Position_Salaries.csv\")\n",
        "x=dataset.iloc[:,1:2].values\n",
        "y=dataset.iloc[:,2].values\n",
        "\n",
        "#feature scaling\n",
        "\n",
        "from sklearn.preprocessing import StandardScaler\n",
        "scx=StandardScaler()\n",
        "scy=StandardScaler()\n",
        "x=scx.fit_transform(x)\n",
        "y=scy.fit_transform(y.reshape(-1,1))\n",
        "print(x,y)\n",
        "\n",
        "# fitting SVR to the dataset\n",
        "\n",
        "from sklearn.svm import SVR\n",
        "regressor = SVR()                       #defalt kernal is rbf\n",
        "regressor.fit(X, y)\n",
        "\n",
        "# visualising the SVR results\n",
        "\n",
        "plt.scatter(X, y, color = 'black')\n",
        "plt.plot(X, regressor.predict(X), color = 'blue')\n",
        "plt.xlabel('Position level')\n",
        "plt.ylabel('Salary')\n",
        "plt.show()\n"
      ],
      "execution_count": 12,
      "outputs": [
        {
          "output_type": "stream",
          "text": [
            "[[-1.5666989 ]\n",
            " [-1.21854359]\n",
            " [-0.87038828]\n",
            " [-0.52223297]\n",
            " [-0.17407766]\n",
            " [ 0.17407766]\n",
            " [ 0.52223297]\n",
            " [ 0.87038828]\n",
            " [ 1.21854359]\n",
            " [ 1.5666989 ]] [[-0.72004253]\n",
            " [-0.70243757]\n",
            " [-0.66722767]\n",
            " [-0.59680786]\n",
            " [-0.49117815]\n",
            " [-0.35033854]\n",
            " [-0.17428902]\n",
            " [ 0.17781001]\n",
            " [ 0.88200808]\n",
            " [ 2.64250325]]\n"
          ],
          "name": "stdout"
        },
        {
          "output_type": "stream",
          "text": [
            "/usr/local/lib/python3.6/dist-packages/sklearn/utils/validation.py:724: DataConversionWarning: A column-vector y was passed when a 1d array was expected. Please change the shape of y to (n_samples, ), for example using ravel().\n",
            "  y = column_or_1d(y, warn=True)\n"
          ],
          "name": "stderr"
        },
        {
          "output_type": "display_data",
          "data": {
            "image/png": "[encoded data removed]",
            "text/plain": [
              "<Figure size 432x288 with 1 Axes>"
            ]
          },
          "metadata": {
            "tags": []
          }
        }
      ]
    },
    {
      "cell_type": "code",
      "metadata": {
        "id": "r6U3FXjDIuie",
        "colab_type": "code",
        "colab": {}
      },
      "source": [
        ""
      ],
      "execution_count": 0,
      "outputs": []
    }
  ]
}