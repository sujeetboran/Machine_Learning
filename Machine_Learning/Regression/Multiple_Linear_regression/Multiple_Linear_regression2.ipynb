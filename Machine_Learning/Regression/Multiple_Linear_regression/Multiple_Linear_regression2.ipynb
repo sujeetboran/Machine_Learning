{
  "nbformat": 4,
  "nbformat_minor": 0,
  "metadata": {
    "colab": {
      "name": "Machine_Learning/Regression/Multiple_Linear_regression/Multiple_Linear_regression2.ipynb",
      "version": "0.3.2",
      "provenance": [],
      "collapsed_sections": [],
      "include_colab_link": true
    },
    "kernelspec": {
      "name": "python3",
      "display_name": "Python 3"
    },
    "accelerator": "GPU"
  },
  "cells": [
    {
      "cell_type": "markdown",
      "metadata": {
        "id": "view-in-github",
        "colab_type": "text"
      },
      "source": [
        "<a href=\"https://colab.research.google.com/github/sujeetboran/Machine_Learning/blob/master/Machine_Learning/Regression/Multiple_Linear_regression/Multiple_Linear_regression2.ipynb\" target=\"_parent\"><img src=\"https://colab.research.google.com/assets/colab-badge.svg\" alt=\"Open In Colab\"/></a>"
      ]
    },
    {
      "cell_type": "code",
      "metadata": {
        "id": "MtTQOvL48bPu",
        "colab_type": "code",
        "colab": {}
      },
      "source": [
        "''' model using backward elimination method '''\n",
        "\n",
        "\n",
        "# import library\n",
        "import numpy as np\n",
        "import pandas as pd\n",
        "import matplotlib.pyplot as plt\n",
        "\n",
        "# taking Data\n",
        "dataset=pd.read_csv(\"50_Startups.csv\")\n",
        "x=dataset.iloc[:,:-1].values\n",
        "y=dataset.iloc[:,-1].values\n",
        "\n",
        "#Encoding\n",
        "from sklearn.preprocessing import LabelEncoder,OneHotEncoder\n",
        "label=LabelEncoder()\n",
        "x[:,3]=label.fit_transform(x[:,3])\n",
        "hotencode=OneHotEncoder(categorical_features=[3])\n",
        "x=hotencode.fit_transform(x).toarray()\n",
        "\n",
        "#avoding dumy variable  \n",
        "x=x[:,1:]\n",
        "\n",
        "# using backward elimination method\n",
        "import statsmodels.api as sm\n",
        "def backwardElimination(x, sl):\n",
        "    numVars = len(x[0])\n",
        "    for i in range(0, numVars):\n",
        "        regressor_OLS = sm.OLS(y, x).fit()\n",
        "        maxVar = max(regressor_OLS.pvalues).astype(float)\n",
        "        if maxVar > sl:\n",
        "            for j in range(0, numVars - i):\n",
        "                if (regressor_OLS.pvalues[j].astype(float) == maxVar):\n",
        "                    x = np.delete(x, j, 1)\n",
        "    regressor_OLS.summary()\n",
        "    return x\n",
        " \n",
        "SL = 0.05\n",
        "X_opt = X[:, [0, 1, 2, 3, 4]]\n",
        "X_Modeled = backwardElimination(X_opt, SL)\n",
        "# splitting\n",
        "from sklearn.model_selection import train_test_split as tts\n",
        "x_train,x_test,y_train,y_test=tts(X_Modeled,y,test_size=0.2,random_state=13)\n",
        "\n",
        "#implementing model\n",
        "from sklearn.linear_model import LinearRegression\n",
        "multi=LinearRegression()\n",
        "multi.fit(x_train,y_train)\n",
        "\n",
        "#prediction \n",
        "y_pres2=multi.predict(x_test)"
      ],
      "execution_count": 0,
      "outputs": []
    }
  ]
}