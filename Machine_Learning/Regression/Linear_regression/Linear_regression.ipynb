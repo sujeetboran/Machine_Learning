{
  "nbformat": 4,
  "nbformat_minor": 0,
  "metadata": {
    "colab": {
      "name": "Linear_regression.ipynb",
      "version": "0.3.2",
      "provenance": [],
      "collapsed_sections": [],
      "include_colab_link": true
    },
    "kernelspec": {
      "name": "python3",
      "display_name": "Python 3"
    },
    "accelerator": "GPU"
  },
  "cells": [
    {
      "cell_type": "markdown",
      "metadata": {
        "id": "view-in-github",
        "colab_type": "text"
      },
      "source": [
        "<a href=\"https://colab.research.google.com/github/sujeetboran/Machine_Learning/blob/master/Machine_Learning/Regression/Linear_regression/Linear_regression.ipynb\" target=\"_parent\"><img src=\"https://colab.research.google.com/assets/colab-badge.svg\" alt=\"Open In Colab\"/></a>"
      ]
    },
    {
      "cell_type": "code",
      "metadata": {
        "id": "au_2osxuCDGW",
        "colab_type": "code",
        "colab": {
          "base_uri": "https://localhost:8080/",
          "height": 1000
        },
        "outputId": "3467a462-5a44-4cd2-88e3-8a46b07f94c8"
      },
      "source": [
        "# Linear regresson\n",
        "\n",
        "# Import Lib\n",
        "import numpy as np\n",
        "import matplotlib.pyplot as plt\n",
        "import pandas as pd\n",
        "\n",
        "# Data\n",
        "dataset=pd.read_csv(\"Salary_Data.csv\")\n",
        "x=dataset.iloc[:,:-1].values\n",
        "y=dataset.iloc[:,1].values\n",
        "print(\"printing the value o original X and Y\") \n",
        "print(\"\\n\") \n",
        "print(x)\n",
        "print(\"\\n\")\n",
        "print(y)\n",
        "print(\"\\n\")\n",
        "# Splitting\n",
        "from sklearn.model_selection import train_test_split as tts\n",
        "x_train,x_test,y_train,y_test=tts(x,y,test_size=1/3,random_state=21)\n",
        "print(\"printing the value of Splitted set x_train,x_test,y_train,y_test\")\n",
        "print(\"\\n\")\n",
        "print(x_train)\n",
        "print(\"\\n\")\n",
        "print(x_test)\n",
        "print(\"\\n\")\n",
        "print(y_train)\n",
        "print(\"\\n\")\n",
        "print(y_test)\n",
        "print(\"\\n\")\n",
        "\n",
        "# Model\n",
        "from sklearn.linear_model import LinearRegression\n",
        "regressor=LinearRegression()\n",
        "regressor.fit(x_train,y_train)\n",
        "\n",
        "# prediction\n",
        "y_pred=regressor.predict(x_test)\n",
        "print(\"predicted value of y on y_test\")\n",
        "print(\"\\n\")\n",
        "print(y_pred)\n",
        "print(\"\\n\")\n",
        "# Graph\n",
        "plt.scatter(x_train,y_train,color='black')\n",
        "plt.plot(x_train,regressor.predict(x_train))\n",
        "plt.title(\"Training\")\n",
        "plt.show()\n",
        "\n",
        "plt.scatter(x_test,y_test,color='black')\n",
        "plt.plot(x_test,y_pred)\n",
        "plt.title(\"Test\")\n",
        "plt.show()"
      ],
      "execution_count": 101,
      "outputs": [
        {
          "output_type": "stream",
          "text": [
            "printing the value o original X and Y\n",
            "\n",
            "\n",
            "[[ 1.1]\n",
            " [ 1.3]\n",
            " [ 1.5]\n",
            " [ 2. ]\n",
            " [ 2.2]\n",
            " [ 2.9]\n",
            " [ 3. ]\n",
            " [ 3.2]\n",
            " [ 3.2]\n",
            " [ 3.7]\n",
            " [ 3.9]\n",
            " [ 4. ]\n",
            " [ 4. ]\n",
            " [ 4.1]\n",
            " [ 4.5]\n",
            " [ 4.9]\n",
            " [ 5.1]\n",
            " [ 5.3]\n",
            " [ 5.9]\n",
            " [ 6. ]\n",
            " [ 6.8]\n",
            " [ 7.1]\n",
            " [ 7.9]\n",
            " [ 8.2]\n",
            " [ 8.7]\n",
            " [ 9. ]\n",
            " [ 9.5]\n",
            " [ 9.6]\n",
            " [10.3]\n",
            " [10.5]]\n",
            "\n",
            "\n",
            "[ 39343.  46205.  37731.  43525.  39891.  56642.  60150.  54445.  64445.\n",
            "  57189.  63218.  55794.  56957.  57081.  61111.  67938.  66029.  83088.\n",
            "  81363.  93940.  91738.  98273. 101302. 113812. 109431. 105582. 116969.\n",
            " 112635. 122391. 121872.]\n",
            "\n",
            "\n",
            "printing the value of Splitted set x_train,x_test,y_train,y_test\n",
            "\n",
            "\n",
            "[[ 5.9]\n",
            " [ 9.5]\n",
            " [ 1.1]\n",
            " [ 6.8]\n",
            " [ 3. ]\n",
            " [ 4.1]\n",
            " [10.5]\n",
            " [ 4. ]\n",
            " [ 4.5]\n",
            " [ 3.2]\n",
            " [ 3.9]\n",
            " [ 5.3]\n",
            " [ 1.5]\n",
            " [ 2. ]\n",
            " [ 9. ]\n",
            " [ 5.1]\n",
            " [ 2.2]\n",
            " [ 8.7]\n",
            " [ 4.9]\n",
            " [ 3.7]]\n",
            "\n",
            "\n",
            "[[ 2.9]\n",
            " [ 8.2]\n",
            " [ 7.9]\n",
            " [10.3]\n",
            " [ 1.3]\n",
            " [ 7.1]\n",
            " [ 6. ]\n",
            " [ 3.2]\n",
            " [ 9.6]\n",
            " [ 4. ]]\n",
            "\n",
            "\n",
            "[ 81363. 116969.  39343.  91738.  60150.  57081. 121872.  56957.  61111.\n",
            "  64445.  63218.  83088.  37731.  43525. 105582.  66029.  39891. 109431.\n",
            "  67938.  57189.]\n",
            "\n",
            "\n",
            "[ 56642. 113812. 101302. 122391.  46205.  98273.  93940.  54445. 112635.\n",
            "  55794.]\n",
            "\n",
            "\n",
            "predicted value of y on y_test\n",
            "\n",
            "\n",
            "[ 52081.21160669 101715.48714925  98905.99985439 121381.89821329\n",
            "  37097.27936742  91414.03373476  81112.58032027  54890.69890155\n",
            " 114826.42785861  62382.66502118]\n",
            "\n",
            "\n"
          ],
          "name": "stdout"
        },
        {
          "output_type": "display_data",
          "data": {
            "image/png": "[encoded data removed]",
            "text/plain": [
              "<Figure size 432x288 with 1 Axes>"
            ]
          },
          "metadata": {
            "tags": []
          }
        },
        {
          "output_type": "display_data",
          "data": {
            "image/png": "[encoded data removed]",
            "text/plain": [
              "<Figure size 432x288 with 1 Axes>"
            ]
          },
          "metadata": {
            "tags": []
          }
        }
      ]
    }
  ]
}