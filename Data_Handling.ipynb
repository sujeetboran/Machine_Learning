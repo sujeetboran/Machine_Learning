{
  "nbformat": 4,
  "nbformat_minor": 0,
  "metadata": {
    "colab": {
      "name": "Data_Handling.ipynb",
      "version": "0.3.2",
      "provenance": [],
      "collapsed_sections": [],
      "include_colab_link": true
    },
    "kernelspec": {
      "name": "python3",
      "display_name": "Python 3"
    },
    "accelerator": "GPU"
  },
  "cells": [
    {
      "cell_type": "markdown",
      "metadata": {
        "id": "view-in-github",
        "colab_type": "text"
      },
      "source": [
        "<a href=\"https://colab.research.google.com/github/sujeetboran/Machine_Learning/blob/master/Data_Handling.ipynb\" target=\"_parent\"><img src=\"https://colab.research.google.com/assets/colab-badge.svg\" alt=\"Open In Colab\"/></a>"
      ]
    },
    {
      "cell_type": "code",
      "metadata": {
        "id": "mrD__cfj4WrL",
        "colab_type": "code",
        "colab": {}
      },
      "source": [
        "# Data Preprocessing\n",
        "import numpy as np\n",
        "import matplotlib.pyplot as plt\n",
        "import pandas as pd\n",
        "\n",
        "#Input\n",
        "dataset = pd.read_csv(\"Data.csv\")\n",
        "x=dataset.iloc[:,:-1].values\n",
        "y=dataset.iloc[:,-1].values\n",
        "\n",
        "#Missing Data\n",
        "from sklearn.preprocessing import Imputer\n",
        "impurt=Imputer(missing_values='NaN', strategy='mean', axis=0)\n",
        "x[:,1:3]=impurt.fit_transform(x[:,1:3])\n",
        "\n",
        "#Handeling Catagorical Data\n",
        "from sklearn.preprocessing import LabelEncoder,OneHotEncoder\n",
        "label=LabelEncoder()\n",
        "x[:,0]=label.fit_transform(x[:,0])\n",
        "hotencode=OneHotEncoder(categorical_features=[0])\n",
        "x=hotencode.fit_transform(x).toarray()\n",
        "y=label.fit_transform(y)\n",
        "print(x)\n",
        "print(y)"
      ],
      "execution_count": 0,
      "outputs": []
    }
  ]
}